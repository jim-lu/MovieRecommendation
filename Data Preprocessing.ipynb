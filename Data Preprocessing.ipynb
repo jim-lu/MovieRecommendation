{
 "cells": [
  {
   "cell_type": "code",
   "execution_count": 1,
   "metadata": {},
   "outputs": [],
   "source": [
    "import pandas as pd\n",
    "import numpy as np\n",
    "from matplotlib import pyplot as plt\n",
    "import random"
   ]
  },
  {
   "cell_type": "code",
   "execution_count": 2,
   "metadata": {},
   "outputs": [
    {
     "data": {
      "text/plain": [
       "userId         int64\n",
       "movieId        int64\n",
       "rating       float64\n",
       "timestamp      int64\n",
       "dtype: object"
      ]
     },
     "execution_count": 2,
     "metadata": {},
     "output_type": "execute_result"
    }
   ],
   "source": [
    "df_raw = pd.read_csv('data/ml-latest-small/ratings.csv')\n",
    "# df_raw = df_raw.astype({'timestamp': 'int64'})\n",
    "df_raw.dtypes"
   ]
  },
  {
   "cell_type": "markdown",
   "metadata": {},
   "source": [
    "# Timestamp standarization"
   ]
  },
  {
   "cell_type": "code",
   "execution_count": 3,
   "metadata": {},
   "outputs": [
    {
     "data": {
      "text/html": [
       "<div>\n",
       "<style scoped>\n",
       "    .dataframe tbody tr th:only-of-type {\n",
       "        vertical-align: middle;\n",
       "    }\n",
       "\n",
       "    .dataframe tbody tr th {\n",
       "        vertical-align: top;\n",
       "    }\n",
       "\n",
       "    .dataframe thead th {\n",
       "        text-align: right;\n",
       "    }\n",
       "</style>\n",
       "<table border=\"1\" class=\"dataframe\">\n",
       "  <thead>\n",
       "    <tr style=\"text-align: right;\">\n",
       "      <th></th>\n",
       "      <th>userId</th>\n",
       "      <th>movieId</th>\n",
       "      <th>rating</th>\n",
       "      <th>timestamp</th>\n",
       "    </tr>\n",
       "  </thead>\n",
       "  <tbody>\n",
       "    <tr>\n",
       "      <th>0</th>\n",
       "      <td>1</td>\n",
       "      <td>1</td>\n",
       "      <td>4.0</td>\n",
       "      <td>224.306156</td>\n",
       "    </tr>\n",
       "    <tr>\n",
       "      <th>1</th>\n",
       "      <td>1</td>\n",
       "      <td>3</td>\n",
       "      <td>4.0</td>\n",
       "      <td>207.777407</td>\n",
       "    </tr>\n",
       "    <tr>\n",
       "      <th>2</th>\n",
       "      <td>1</td>\n",
       "      <td>6</td>\n",
       "      <td>4.0</td>\n",
       "      <td>223.582035</td>\n",
       "    </tr>\n",
       "    <tr>\n",
       "      <th>3</th>\n",
       "      <td>1</td>\n",
       "      <td>47</td>\n",
       "      <td>5.0</td>\n",
       "      <td>223.582865</td>\n",
       "    </tr>\n",
       "    <tr>\n",
       "      <th>4</th>\n",
       "      <td>1</td>\n",
       "      <td>50</td>\n",
       "      <td>5.0</td>\n",
       "      <td>223.581404</td>\n",
       "    </tr>\n",
       "    <tr>\n",
       "      <th>...</th>\n",
       "      <td>...</td>\n",
       "      <td>...</td>\n",
       "      <td>...</td>\n",
       "      <td>...</td>\n",
       "    </tr>\n",
       "    <tr>\n",
       "      <th>100831</th>\n",
       "      <td>610</td>\n",
       "      <td>166534</td>\n",
       "      <td>4.0</td>\n",
       "      <td>0.000000</td>\n",
       "    </tr>\n",
       "    <tr>\n",
       "      <th>100832</th>\n",
       "      <td>610</td>\n",
       "      <td>168248</td>\n",
       "      <td>5.0</td>\n",
       "      <td>0.000000</td>\n",
       "    </tr>\n",
       "    <tr>\n",
       "      <th>100833</th>\n",
       "      <td>610</td>\n",
       "      <td>168250</td>\n",
       "      <td>5.0</td>\n",
       "      <td>10.091718</td>\n",
       "    </tr>\n",
       "    <tr>\n",
       "      <th>100834</th>\n",
       "      <td>610</td>\n",
       "      <td>168252</td>\n",
       "      <td>5.0</td>\n",
       "      <td>6.010470</td>\n",
       "    </tr>\n",
       "    <tr>\n",
       "      <th>100835</th>\n",
       "      <td>610</td>\n",
       "      <td>170875</td>\n",
       "      <td>3.0</td>\n",
       "      <td>0.000000</td>\n",
       "    </tr>\n",
       "  </tbody>\n",
       "</table>\n",
       "<p>100836 rows × 4 columns</p>\n",
       "</div>"
      ],
      "text/plain": [
       "        userId  movieId  rating   timestamp\n",
       "0            1        1     4.0  224.306156\n",
       "1            1        3     4.0  207.777407\n",
       "2            1        6     4.0  223.582035\n",
       "3            1       47     5.0  223.582865\n",
       "4            1       50     5.0  223.581404\n",
       "...        ...      ...     ...         ...\n",
       "100831     610   166534     4.0    0.000000\n",
       "100832     610   168248     5.0    0.000000\n",
       "100833     610   168250     5.0   10.091718\n",
       "100834     610   168252     5.0    6.010470\n",
       "100835     610   170875     3.0    0.000000\n",
       "\n",
       "[100836 rows x 4 columns]"
      ]
     },
     "execution_count": 3,
     "metadata": {},
     "output_type": "execute_result"
    }
   ],
   "source": [
    "df = df_raw\n",
    "timestamp_start = df.timestamp.groupby(df.movieId).min()\n",
    "df = df.merge(timestamp_start,on=['movieId'], how='left', suffixes=['', '_start'])\n",
    "df.timestamp = (df.timestamp - df.timestamp_start) / 3600 / 24 / 7\n",
    "df.drop(columns=['timestamp_start'], inplace=True)\n",
    "df"
   ]
  },
  {
   "cell_type": "markdown",
   "metadata": {},
   "source": [
    "# User bias"
   ]
  },
  {
   "cell_type": "code",
   "execution_count": 4,
   "metadata": {},
   "outputs": [
    {
     "data": {
      "text/html": [
       "<div>\n",
       "<style scoped>\n",
       "    .dataframe tbody tr th:only-of-type {\n",
       "        vertical-align: middle;\n",
       "    }\n",
       "\n",
       "    .dataframe tbody tr th {\n",
       "        vertical-align: top;\n",
       "    }\n",
       "\n",
       "    .dataframe thead th {\n",
       "        text-align: right;\n",
       "    }\n",
       "</style>\n",
       "<table border=\"1\" class=\"dataframe\">\n",
       "  <thead>\n",
       "    <tr style=\"text-align: right;\">\n",
       "      <th></th>\n",
       "      <th>userId</th>\n",
       "      <th>movieId</th>\n",
       "      <th>rating</th>\n",
       "      <th>timestamp</th>\n",
       "      <th>rating_mean_movie</th>\n",
       "      <th>rating_mean_user</th>\n",
       "    </tr>\n",
       "  </thead>\n",
       "  <tbody>\n",
       "    <tr>\n",
       "      <th>0</th>\n",
       "      <td>1</td>\n",
       "      <td>1</td>\n",
       "      <td>4.0</td>\n",
       "      <td>224.306156</td>\n",
       "      <td>3.920930</td>\n",
       "      <td>4.366379</td>\n",
       "    </tr>\n",
       "    <tr>\n",
       "      <th>1</th>\n",
       "      <td>1</td>\n",
       "      <td>3</td>\n",
       "      <td>4.0</td>\n",
       "      <td>207.777407</td>\n",
       "      <td>3.259615</td>\n",
       "      <td>4.366379</td>\n",
       "    </tr>\n",
       "    <tr>\n",
       "      <th>2</th>\n",
       "      <td>1</td>\n",
       "      <td>6</td>\n",
       "      <td>4.0</td>\n",
       "      <td>223.582035</td>\n",
       "      <td>3.946078</td>\n",
       "      <td>4.366379</td>\n",
       "    </tr>\n",
       "    <tr>\n",
       "      <th>3</th>\n",
       "      <td>1</td>\n",
       "      <td>47</td>\n",
       "      <td>5.0</td>\n",
       "      <td>223.582865</td>\n",
       "      <td>3.975369</td>\n",
       "      <td>4.366379</td>\n",
       "    </tr>\n",
       "    <tr>\n",
       "      <th>4</th>\n",
       "      <td>1</td>\n",
       "      <td>50</td>\n",
       "      <td>5.0</td>\n",
       "      <td>223.581404</td>\n",
       "      <td>4.237745</td>\n",
       "      <td>4.366379</td>\n",
       "    </tr>\n",
       "    <tr>\n",
       "      <th>...</th>\n",
       "      <td>...</td>\n",
       "      <td>...</td>\n",
       "      <td>...</td>\n",
       "      <td>...</td>\n",
       "      <td>...</td>\n",
       "      <td>...</td>\n",
       "    </tr>\n",
       "    <tr>\n",
       "      <th>100831</th>\n",
       "      <td>610</td>\n",
       "      <td>166534</td>\n",
       "      <td>4.0</td>\n",
       "      <td>0.000000</td>\n",
       "      <td>3.333333</td>\n",
       "      <td>3.688556</td>\n",
       "    </tr>\n",
       "    <tr>\n",
       "      <th>100832</th>\n",
       "      <td>610</td>\n",
       "      <td>168248</td>\n",
       "      <td>5.0</td>\n",
       "      <td>0.000000</td>\n",
       "      <td>4.142857</td>\n",
       "      <td>3.688556</td>\n",
       "    </tr>\n",
       "    <tr>\n",
       "      <th>100833</th>\n",
       "      <td>610</td>\n",
       "      <td>168250</td>\n",
       "      <td>5.0</td>\n",
       "      <td>10.091718</td>\n",
       "      <td>3.633333</td>\n",
       "      <td>3.688556</td>\n",
       "    </tr>\n",
       "    <tr>\n",
       "      <th>100834</th>\n",
       "      <td>610</td>\n",
       "      <td>168252</td>\n",
       "      <td>5.0</td>\n",
       "      <td>6.010470</td>\n",
       "      <td>4.280000</td>\n",
       "      <td>3.688556</td>\n",
       "    </tr>\n",
       "    <tr>\n",
       "      <th>100835</th>\n",
       "      <td>610</td>\n",
       "      <td>170875</td>\n",
       "      <td>3.0</td>\n",
       "      <td>0.000000</td>\n",
       "      <td>2.333333</td>\n",
       "      <td>3.688556</td>\n",
       "    </tr>\n",
       "  </tbody>\n",
       "</table>\n",
       "<p>100836 rows × 6 columns</p>\n",
       "</div>"
      ],
      "text/plain": [
       "        userId  movieId  rating   timestamp  rating_mean_movie  \\\n",
       "0            1        1     4.0  224.306156           3.920930   \n",
       "1            1        3     4.0  207.777407           3.259615   \n",
       "2            1        6     4.0  223.582035           3.946078   \n",
       "3            1       47     5.0  223.582865           3.975369   \n",
       "4            1       50     5.0  223.581404           4.237745   \n",
       "...        ...      ...     ...         ...                ...   \n",
       "100831     610   166534     4.0    0.000000           3.333333   \n",
       "100832     610   168248     5.0    0.000000           4.142857   \n",
       "100833     610   168250     5.0   10.091718           3.633333   \n",
       "100834     610   168252     5.0    6.010470           4.280000   \n",
       "100835     610   170875     3.0    0.000000           2.333333   \n",
       "\n",
       "        rating_mean_user  \n",
       "0               4.366379  \n",
       "1               4.366379  \n",
       "2               4.366379  \n",
       "3               4.366379  \n",
       "4               4.366379  \n",
       "...                  ...  \n",
       "100831          3.688556  \n",
       "100832          3.688556  \n",
       "100833          3.688556  \n",
       "100834          3.688556  \n",
       "100835          3.688556  \n",
       "\n",
       "[100836 rows x 6 columns]"
      ]
     },
     "execution_count": 4,
     "metadata": {},
     "output_type": "execute_result"
    }
   ],
   "source": [
    "rating_mean_movie = df.rating.groupby(df.movieId).mean().reset_index(name='rating_mean_movie')\n",
    "rating_mean_user = df.rating.groupby(df.userId).mean().reset_index(name='rating_mean_user')\n",
    "rating_mean_overall = df.rating.mean()\n",
    "df = df.merge(rating_mean_movie, how='left', on=['movieId'])\n",
    "df = df.merge(rating_mean_user, how='left', on=['userId'])\n",
    "df"
   ]
  },
  {
   "cell_type": "code",
   "execution_count": 5,
   "metadata": {},
   "outputs": [],
   "source": [
    "df.rating = df.apply(lambda x : x['rating'] + 2 * rating_mean_overall - x['rating_mean_movie'] - x['rating_mean_user'], axis=1)\n",
    "df.drop(columns=['rating_mean_movie', 'rating_mean_user'], inplace=True)"
   ]
  },
  {
   "cell_type": "markdown",
   "metadata": {},
   "source": [
    "# Time bias"
   ]
  },
  {
   "cell_type": "code",
   "execution_count": 6,
   "metadata": {},
   "outputs": [
    {
     "data": {
      "text/plain": [
       "(-0.00018069780422709769, 3.559645561645631)"
      ]
     },
     "execution_count": 6,
     "metadata": {},
     "output_type": "execute_result"
    }
   ],
   "source": [
    "timestamp_mean = df.timestamp.mean()\n",
    "rating_mean_overall = df.rating.mean()\n",
    "timestamp_mean, rating_mean_overall\n",
    "tt = (df.timestamp - timestamp_mean).to_numpy()\n",
    "rr = (df.rating - rating_mean_overall).to_numpy()\n",
    "k = np.sum(tt * rr) / np.sum(tt * tt)\n",
    "b = rating_mean_overall - k * timestamp_mean\n",
    "k, b"
   ]
  },
  {
   "cell_type": "code",
   "execution_count": 7,
   "metadata": {
    "scrolled": true
   },
   "outputs": [
    {
     "data": {
      "text/plain": [
       "Text(0, 0.5, 'Rating')"
      ]
     },
     "execution_count": 7,
     "metadata": {},
     "output_type": "execute_result"
    },
    {
     "data": {
      "image/png": "[encoded data removed]",
      "text/plain": [
       "<Figure size 432x288 with 1 Axes>"
      ]
     },
     "metadata": {
      "needs_background": "light"
     },
     "output_type": "display_data"
    }
   ],
   "source": [
    "movie_list = [356, 47, 527, 4993, 2571, 6]\n",
    "for movieId in movie_list:\n",
    "    tdf = df[df.movieId == movieId].sort_values(by='timestamp')\n",
    "    ratings_by_time = tdf.rating.groupby(tdf.timestamp).mean().reset_index(name='rating_mean_time')\n",
    "    x = ratings_by_time.timestamp.to_list()\n",
    "    y = []\n",
    "    for i in range(len(ratings_by_time)):\n",
    "        y.append(ratings_by_time.rating_mean_time.iloc[0:i].mean())\n",
    "    plt.plot(x, y, label=movieId)\n",
    "x = np.linspace(0,1200,5000)\n",
    "y = k * x + b\n",
    "plt.plot(x, y, 'k--', label='LR')\n",
    "# x = np.linspace(0,1200,5000).reshape(-1, 1)\n",
    "# y = clf.predict(x)\n",
    "# plt.plot(x, y)\n",
    "plt.legend()\n",
    "plt.xlabel('Week')\n",
    "plt.ylabel('Rating')"
   ]
  },
  {
   "cell_type": "code",
   "execution_count": 8,
   "metadata": {},
   "outputs": [],
   "source": [
    "df['rating'] = df.apply(lambda x : x['rating'] - x['timestamp'] * k, axis=1)"
   ]
  },
  {
   "cell_type": "code",
   "execution_count": 9,
   "metadata": {},
   "outputs": [
    {
     "data": {
      "text/plain": [
       "(-4.5739824043798125e-20, 3.559645561645472)"
      ]
     },
     "execution_count": 9,
     "metadata": {},
     "output_type": "execute_result"
    }
   ],
   "source": [
    "timestamp_mean = df.timestamp.mean()\n",
    "rating_mean_overall = df.rating.mean()\n",
    "timestamp_mean, rating_mean_overall\n",
    "tt = (df.timestamp - timestamp_mean).to_numpy()\n",
    "rr = (df.rating - rating_mean_overall).to_numpy()\n",
    "k = np.sum(tt * rr) / np.sum(tt * tt)\n",
    "b = rating_mean_overall - k * timestamp_mean\n",
    "k, b"
   ]
  },
  {
   "cell_type": "code",
   "execution_count": 10,
   "metadata": {},
   "outputs": [
    {
     "data": {
      "text/plain": [
       "Text(0, 0.5, 'Rating')"
      ]
     },
     "execution_count": 10,
     "metadata": {},
     "output_type": "execute_result"
    },
    {
     "data": {
      "image/png": "[encoded data removed]",
      "text/plain": [
       "<Figure size 432x288 with 1 Axes>"
      ]
     },
     "metadata": {
      "needs_background": "light"
     },
     "output_type": "display_data"
    }
   ],
   "source": [
    "movie_list = [356, 47, 527, 4993, 2571, 6]\n",
    "for movieId in movie_list:\n",
    "    tdf = df[df.movieId == movieId].sort_values(by='timestamp')\n",
    "    ratings_by_time = tdf.rating.groupby(tdf.timestamp).mean().reset_index(name='rating_mean_time')\n",
    "    x = ratings_by_time.timestamp.to_list()\n",
    "    y = []\n",
    "    for i in range(len(ratings_by_time)):\n",
    "        y.append(ratings_by_time.rating_mean_time.iloc[0:i].mean())\n",
    "    plt.plot(x, y, label=movieId)\n",
    "x = np.linspace(0,1200,5000)\n",
    "y = k * x + b\n",
    "plt.plot(x, y, 'k--', label='LR')\n",
    "# x = np.linspace(0,1200,5000).reshape(-1, 1)\n",
    "# y = clf.predict(x)\n",
    "# plt.plot(x, y)\n",
    "plt.legend()\n",
    "plt.xlabel('Week')\n",
    "plt.ylabel('Rating')"
   ]
  },
  {
   "cell_type": "code",
   "execution_count": 11,
   "metadata": {},
   "outputs": [],
   "source": [
    "df.to_csv('ratings_dealt.csv', index=False)"
   ]
  },
  {
   "cell_type": "markdown",
   "metadata": {},
   "source": [
    "# Splitting for 5-fold cross validation"
   ]
  },
  {
   "cell_type": "code",
   "execution_count": 12,
   "metadata": {},
   "outputs": [
    {
     "data": {
      "text/plain": [
       "(610, 9724)"
      ]
     },
     "execution_count": 12,
     "metadata": {},
     "output_type": "execute_result"
    }
   ],
   "source": [
    "set_user = set(df.userId.to_list())\n",
    "set_movie = set(df.movieId.to_list())\n",
    "len(set_user), len(set_movie)"
   ]
  },
  {
   "cell_type": "code",
   "execution_count": 13,
   "metadata": {},
   "outputs": [],
   "source": [
    "random.seed(114514)\n",
    "np.random.seed(114514)\n",
    "df_musthave_user = df.groupby(df.userId, group_keys=False).apply(lambda x:x.sample(1))\n",
    "df_musthave_movie = df.groupby(df.movieId, group_keys=False).apply(lambda x:x.sample(1))\n",
    "df_musthave = pd.concat([df_musthave_user, df_musthave_movie]).drop_duplicates(subset=['userId', 'movieId'])\n",
    "df_shuffled = df.sample(frac=1)\n",
    "df_shuffled = pd.concat([df_musthave, df_shuffled]).drop_duplicates(keep=False) # Drop must have"
   ]
  },
  {
   "cell_type": "code",
   "execution_count": 14,
   "metadata": {},
   "outputs": [
    {
     "name": "stdout",
     "output_type": "stream",
     "text": [
      "(82729, 4) (18107, 4)\n",
      "(82729, 4) (18107, 4)\n",
      "(82729, 4) (18107, 4)\n",
      "(82730, 4) (18106, 4)\n",
      "(82730, 4) (18106, 4)\n"
     ]
    }
   ],
   "source": [
    "folds = np.array_split(df_shuffled, 5)\n",
    "for i in range(len(folds)):\n",
    "    df_fold_train = pd.DataFrame()\n",
    "    if i > 0: df_fold_train = pd.concat(folds[:i])\n",
    "    if i + 1 < len(folds): df_fold_train = pd.concat([df_fold_train, pd.concat(folds[i+1:])])\n",
    "    df_fold_train = pd.concat([df_fold_train, df_musthave])\n",
    "    df_fold_test = folds[i]\n",
    "    df_fold_train.to_csv('data/trainset_{}.csv'.format(i))\n",
    "    df_fold_test.to_csv('data/testset_{}.csv'.format(i))\n",
    "    print(df_fold_train.shape, df_fold_test.shape)"
   ]
  },
  {
   "cell_type": "code",
   "execution_count": null,
   "metadata": {},
   "outputs": [],
   "source": []
  }
 ],
 "metadata": {
  "kernelspec": {
   "display_name": "Python 3",
   "language": "python",
   "name": "python3"
  },
  "language_info": {
   "codemirror_mode": {
    "name": "ipython",
    "version": 3
   },
   "file_extension": ".py",
   "mimetype": "text/x-python",
   "name": "python",
   "nbconvert_exporter": "python",
   "pygments_lexer": "ipython3",
   "version": "3.7.7"
  }
 },
 "nbformat": 4,
 "nbformat_minor": 4
}
